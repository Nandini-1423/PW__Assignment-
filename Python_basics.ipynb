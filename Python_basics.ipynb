{
  "nbformat": 4,
  "nbformat_minor": 0,
  "metadata": {
    "colab": {
      "provenance": []
    },
    "kernelspec": {
      "name": "python3",
      "display_name": "Python 3"
    },
    "language_info": {
      "name": "python"
    }
  },
  "cells": [
    {
      "cell_type": "markdown",
      "source": [
        "**Python Basics Questions**"
      ],
      "metadata": {
        "id": "IefyHGDmpAem"
      }
    },
    {
      "cell_type": "markdown",
      "source": [
        "1. What is Python, and why is it popular?\n",
        "\n",
        "- Python is a programming language that’s super easy to read and write. People like it because it works in almost every field — from making websites to analyzing data, and even artificial intelligence. Its simple syntax makes it beginner-friendly but still powerful enough for advanced projects."
      ],
      "metadata": {
        "id": "cG-DiDe-pewO"
      }
    },
    {
      "cell_type": "markdown",
      "source": [
        "2. What is an interpreter in Python?\n",
        "\n",
        "- An interpreter is basically a tool that runs Python code line by line. Instead of converting the whole program at once (like a compiler), it executes step by step, which makes testing and debugging easier."
      ],
      "metadata": {
        "id": "MTMz-NEWp1ae"
      }
    },
    {
      "cell_type": "markdown",
      "source": [
        "3. What are pre-defined keywords in Python?\n",
        "- Keywords are special words in Python that already have a meaning. They’re part of the language rules, so we can’t use them as our own variable names. Examples are: if, while, True, None, etc."
      ],
      "metadata": {
        "id": "s1oORyG_qZtb"
      }
    },
    {
      "cell_type": "markdown",
      "source": [
        "4. Can keywords be used as variable names?\n",
        "\n",
        "- No, we can’t. If we try, Python gets confused because those words are reserved for specific tasks. For example, writing if = 5 will give an error."
      ],
      "metadata": {
        "id": "JGQpWtwXqZ6-"
      }
    },
    {
      "cell_type": "markdown",
      "source": [
        "5. What is mutability in Python?\n",
        "\n",
        "- Mutability means whether an object can be changed after it’s created. If something is mutable, we can update or modify it. If it’s immutable, once it’s made, it stays the same.\n",
        "\n",
        "\n"
      ],
      "metadata": {
        "id": "Jt8kTkr4qZ8T"
      }
    },
    {
      "cell_type": "markdown",
      "source": [
        "6. Why are lists mutable, but tuples are immutable?\n",
        "\n",
        "- Lists can be changed — we can add, remove, or edit items in them. Tuples, on the other hand, are fixed. Once created, they cannot be altered. This makes tuples safer for data that shouldn’t change."
      ],
      "metadata": {
        "id": "JcujSlDgqaAJ"
      }
    },
    {
      "cell_type": "markdown",
      "source": [
        "7. What is the difference between “==” and “is” operators in Python?\n",
        "\n",
        "- == checks for value equality (whether two objects have the same data).\n",
        "\n",
        "- is checks for identity equality (whether two objects share the same memory location).\n",
        "\n",
        "Example: Two lists with the same numbers may be equal (==), but they’re not the same object (is)."
      ],
      "metadata": {
        "id": "fAFsSgQBqaBn"
      }
    },
    {
      "cell_type": "markdown",
      "source": [
        "8. What are logical operators in Python?\n",
        "\n",
        "- Logical operators are used to combine conditional statements:\n",
        "\n",
        "   - and → Returns True if both conditions are true.\n",
        "\n",
        "   - or → Returns True if at least one condition is true.\n",
        "\n",
        "  - not → Reverses the result of a condition."
      ],
      "metadata": {
        "id": "ANbVmzUbqaFg"
      }
    },
    {
      "cell_type": "markdown",
      "source": [
        "9. What is type casting in Python?\n",
        "\n",
        "- Type casting is the process of converting one data type into another. For example, converting an integer to a string, or a float to an integer."
      ],
      "metadata": {
        "id": "xdTvqxE5qaG3"
      }
    },
    {
      "cell_type": "markdown",
      "source": [
        "10. What is the difference between implicit and explicit type casting?\n",
        "\n",
        "- Implicit casting: Python does it automatically when needed (like mixing int and float in a calculation).\n",
        "\n",
        "- Explicit casting: We do it manually using functions like int(), float(), or str().\n"
      ],
      "metadata": {
        "id": "XjTOP4AZqaKo"
      }
    },
    {
      "cell_type": "markdown",
      "source": [
        "11. What is the purpose of conditional statements in Python?\n",
        "\n",
        "- Conditional statements are used to make decisions in a program. They allow execution of different code blocks depending on whether a condition is true or false."
      ],
      "metadata": {
        "id": "_91wr9o6qaMA"
      }
    },
    {
      "cell_type": "markdown",
      "source": [
        "12. How does the elif statement work?\n",
        "\n",
        "- The elif statement is used when there are multiple conditions to check. It executes only when the previous if condition is false, and its own condition is true. It prevents writing multiple nested if statements."
      ],
      "metadata": {
        "id": "BY89i_h7tg1x"
      }
    },
    {
      "cell_type": "markdown",
      "source": [
        "13. What is the difference between for and while loops?\n",
        "\n",
        "- for loop: Runs for a fixed number of iterations, usually used when the number of repetitions is known.\n",
        "\n",
        "- while loop: Runs until a condition becomes false, usually used when the number of iterations is not known in advance"
      ],
      "metadata": {
        "id": "v7QUwJkutg_a"
      }
    },
    {
      "cell_type": "markdown",
      "source": [
        "14. Describe a scenario where a while loop is more suitable than a for loop.\n",
        "\n",
        "- A while loop is better when we’re waiting for something to happen but don’t know when. For example, asking a user to enter the right password. The loop keeps running until the correct password is entered"
      ],
      "metadata": {
        "id": "uC31dV-SthHs"
      }
    },
    {
      "cell_type": "markdown",
      "source": [
        "##Practical Questions"
      ],
      "metadata": {
        "id": "Kwr22yS5thPi"
      }
    },
    {
      "cell_type": "code",
      "source": [
        "#1. Write a Python program to print \"Hello, World!\n",
        "\n",
        "print(\"Hello, World!\")"
      ],
      "metadata": {
        "colab": {
          "base_uri": "https://localhost:8080/"
        },
        "id": "Tjo72vJWujzI",
        "outputId": "16a0413c-b278-45bc-b554-8bbad59f048c"
      },
      "execution_count": 8,
      "outputs": [
        {
          "output_type": "stream",
          "name": "stdout",
          "text": [
            "Hello, World!\n"
          ]
        }
      ]
    },
    {
      "cell_type": "code",
      "source": [
        "#2. Write a Python program that displays your name and age.\n",
        "\n",
        "name = \"Nandini\"\n",
        "age = 23\n",
        "print(\"My name is\", name)\n",
        "print(\"I am\", age, \"years old\")\n"
      ],
      "metadata": {
        "colab": {
          "base_uri": "https://localhost:8080/"
        },
        "id": "zCSFqXomuiuG",
        "outputId": "7f1fc353-b9d1-46f5-eaf0-c4f1ee64b948"
      },
      "execution_count": 10,
      "outputs": [
        {
          "output_type": "stream",
          "name": "stdout",
          "text": [
            "My name is Nandini\n",
            "I am 23 years old\n"
          ]
        }
      ]
    },
    {
      "cell_type": "code",
      "source": [
        "#3. Write code to print all the pre-defined keywords in Python using the keyword library\n",
        "\n",
        "import keyword\n",
        "print(\"List of all Python keywords:\")\n",
        "print(keyword.kwlist)"
      ],
      "metadata": {
        "colab": {
          "base_uri": "https://localhost:8080/"
        },
        "id": "ycwHiARuwlRe",
        "outputId": "8321fa0b-1890-44a0-f001-db9bf3349eeb"
      },
      "execution_count": 20,
      "outputs": [
        {
          "output_type": "stream",
          "name": "stdout",
          "text": [
            "List of all Python keywords:\n",
            "['False', 'None', 'True', 'and', 'as', 'assert', 'async', 'await', 'break', 'class', 'continue', 'def', 'del', 'elif', 'else', 'except', 'finally', 'for', 'from', 'global', 'if', 'import', 'in', 'is', 'lambda', 'nonlocal', 'not', 'or', 'pass', 'raise', 'return', 'try', 'while', 'with', 'yield']\n"
          ]
        }
      ]
    },
    {
      "cell_type": "code",
      "source": [
        "#4. Write a program that checks if a given word is a Python keyword.\n",
        "import keyword\n",
        "\n",
        "word = input(\"Enter a word: \")\n",
        "\n",
        "if keyword.iskeyword(word):\n",
        "    print(f\"'{word}' is a Python keyword.\")\n",
        "else:\n",
        "    print(f\"'{word}' is NOT a Python keyword.\")\n"
      ],
      "metadata": {
        "colab": {
          "base_uri": "https://localhost:8080/"
        },
        "id": "YKDK6F_BwoH0",
        "outputId": "07cb8b15-4a16-4bed-ee11-34ff0fd11905"
      },
      "execution_count": 21,
      "outputs": [
        {
          "output_type": "stream",
          "name": "stdout",
          "text": [
            "Enter a word: def\n",
            "'def' is a Python keyword.\n"
          ]
        }
      ]
    },
    {
      "cell_type": "code",
      "source": [
        "''' #5. Create a list and tuple in Python, and demonstrate how attempting to change an element works differently\n",
        "for each.'''\n",
        "\n",
        "# Creating a list (mutable)\n",
        "my_list = [10, 20, 30]\n",
        "print(\"Original List:\", my_list)\n",
        "\n",
        "# Changing an element in the list\n",
        "my_list[1] = 200\n",
        "print(\"Modified List:\", my_list)\n",
        "\n",
        "\n",
        "# Creating a tuple (immutable)\n",
        "my_tuple = (10, 20, 30)\n",
        "print(\"\\nOriginal Tuple:\", my_tuple)\n",
        "\n",
        "# Trying to change an element in the tuple\n",
        "try:\n",
        "    my_tuple[1] = 200   # This will cause an error\n",
        "except TypeError as e:\n",
        "    print(\"Error when modifying tuple:\", e)"
      ],
      "metadata": {
        "colab": {
          "base_uri": "https://localhost:8080/"
        },
        "id": "Dwz91PdcxF3-",
        "outputId": "92708a65-5fdc-49a5-da28-b831f1addfed"
      },
      "execution_count": 29,
      "outputs": [
        {
          "output_type": "stream",
          "name": "stdout",
          "text": [
            "Original List: [10, 20, 30]\n",
            "Modified List: [10, 200, 30]\n",
            "\n",
            "Original Tuple: (10, 20, 30)\n",
            "Error when modifying tuple: 'tuple' object does not support item assignment\n"
          ]
        }
      ]
    },
    {
      "cell_type": "code",
      "source": [
        "#6. Write a function to demonstrate the behavior of mutable and immutable arguments.\n",
        "\n",
        "'''Function to show mutable vs immutable behavior'''\n",
        "\n",
        "def modify(num, mylist):\n",
        "    num = num + 1          # (A)\n",
        "    mylist[0] = 99         # (B)\n",
        "    print(\"Inside function:\")\n",
        "    print(\"num =\", num)\n",
        "    print(\"mylist =\", mylist)\n",
        "\n",
        "# main program\n",
        "a = 5\n",
        "b = [10, 20, 30]\n",
        "\n",
        "print(\"Before function call:\")\n",
        "print(\"a =\", a)\n",
        "print(\"b =\", b)\n",
        "\n",
        "modify(a, b)\n",
        "\n",
        "print(\"\\nAfter function call:\")\n",
        "print(\"a =\", a)\n",
        "print(\"b =\", b)\n",
        "\n"
      ],
      "metadata": {
        "colab": {
          "base_uri": "https://localhost:8080/"
        },
        "id": "riHeK-oVxTHo",
        "outputId": "257c7e57-6695-4ecf-a701-6cdad64f7e4f"
      },
      "execution_count": 31,
      "outputs": [
        {
          "output_type": "stream",
          "name": "stdout",
          "text": [
            "Before function call:\n",
            "a = 5\n",
            "b = [10, 20, 30]\n",
            "Inside function:\n",
            "num = 6\n",
            "mylist = [99, 20, 30]\n",
            "\n",
            "After function call:\n",
            "a = 5\n",
            "b = [99, 20, 30]\n"
          ]
        }
      ]
    },
    {
      "cell_type": "code",
      "source": [
        "#7. Write a program that performs basic arithmetic operations on two user-input numbers.\n",
        "\n",
        "# Taking input from user\n",
        "num1 = float(input(\"Enter first number: \"))\n",
        "num2 = float(input(\"Enter second number: \"))\n",
        "\n",
        "# Performing operations\n",
        "print(\"\\nResults:\")\n",
        "print(\"Addition:\", num1 + num2)\n",
        "print(\"Subtraction:\", num1 - num2)\n",
        "print(\"Multiplication:\", num1 * num2)\n",
        "print(\"Division:\",num1 / num2)\n"
      ],
      "metadata": {
        "colab": {
          "base_uri": "https://localhost:8080/"
        },
        "id": "-gB49APGzVE8",
        "outputId": "a9c8cc7a-0fbc-482c-e052-46e5d4e9f9d2"
      },
      "execution_count": 34,
      "outputs": [
        {
          "output_type": "stream",
          "name": "stdout",
          "text": [
            "Enter first number: 4\n",
            "Enter second number: 7\n",
            "\n",
            "Results:\n",
            "Addition: 11.0\n",
            "Subtraction: -3.0\n",
            "Multiplication: 28.0\n",
            "Division: 0.5714285714285714\n"
          ]
        }
      ]
    },
    {
      "cell_type": "code",
      "source": [
        "#8. Write a program to demonstrate the use of logical operators\n",
        "\n",
        "a = 10\n",
        "b = 20\n",
        "\n",
        "print(\"a =\", a, \" b =\", b)\n",
        "\n",
        "# Using 'and' operator\n",
        "if a > 5 and b > 15:\n",
        "    print(\"Both conditions are True (and)\")\n",
        "\n",
        "# Using 'or' operator\n",
        "if a > 15 or b > 15:\n",
        "    print(\"At least one condition is True (or)\")\n",
        "\n",
        "# Using 'not' operator\n",
        "if not (a > b):\n",
        "    print(\"The statement 'a > b' is False, so 'not' makes it True\")\n"
      ],
      "metadata": {
        "colab": {
          "base_uri": "https://localhost:8080/"
        },
        "id": "1p1oAdJ12PM5",
        "outputId": "babaac8a-2067-403f-8c59-44217762a1f5"
      },
      "execution_count": 36,
      "outputs": [
        {
          "output_type": "stream",
          "name": "stdout",
          "text": [
            "a = 10  b = 20\n",
            "Both conditions are True (and)\n",
            "At least one condition is True (or)\n",
            "The statement 'a > b' is False, so 'not' makes it True\n"
          ]
        }
      ]
    },
    {
      "cell_type": "code",
      "source": [
        "#9. Write a Python program to convert user input from string to integer, float, and boolean types\n",
        "\n",
        "# Taking input (string by default)\n",
        "user_input = input(\"Enter a number: \")\n",
        "\n",
        "# Converting to int\n",
        "int_val = int(user_input)\n",
        "\n",
        "# Converting to float\n",
        "float_val = float(user_input)\n",
        "\n",
        "# Converting to boolean\n",
        "bool_val = bool(user_input)\n",
        "\n",
        "# Displaying results\n",
        "print(\"Original (string):\", user_input)\n",
        "print(\"As Integer:\", int_val)\n",
        "print(\"As Float:\", float_val)\n",
        "print(\"As Boolean:\", bool_val)\n",
        "\n"
      ],
      "metadata": {
        "colab": {
          "base_uri": "https://localhost:8080/"
        },
        "id": "FZ-hgd752oUM",
        "outputId": "230b56c4-4b24-4f1d-ae05-96ce5017ad79"
      },
      "execution_count": 44,
      "outputs": [
        {
          "output_type": "stream",
          "name": "stdout",
          "text": [
            "Enter a number: 3\n",
            "Original (string): 3\n",
            "As Integer: 3\n",
            "As Float: 3.0\n",
            "As Boolean: True\n"
          ]
        }
      ]
    },
    {
      "cell_type": "code",
      "source": [
        "#10. Write code to demonstrate type casting with list elements.\n",
        "\n",
        "# List of strings (numbers in string form)\n",
        "str_list = [\"1\", \"2\", \"3\", \"4\"]\n",
        "\n",
        "# Converting each element to integer\n",
        "int_list = [int(x) for x in str_list]\n",
        "\n",
        "print(\"Original list (strings):\", str_list)\n",
        "print(\"Converted list (integers):\", int_list)\n"
      ],
      "metadata": {
        "colab": {
          "base_uri": "https://localhost:8080/"
        },
        "id": "KIBcnhLI3wa0",
        "outputId": "de8e9452-905e-4da5-d119-a9d3598d8d48"
      },
      "execution_count": 45,
      "outputs": [
        {
          "output_type": "stream",
          "name": "stdout",
          "text": [
            "Original list (strings): ['1', '2', '3', '4']\n",
            "Converted list (integers): [1, 2, 3, 4]\n"
          ]
        }
      ]
    },
    {
      "cell_type": "code",
      "source": [
        "#11. Write a program that checks if a number is positive, negative, or zero.\n",
        "\n",
        "num = int(input(\"Enter a number: \"))\n",
        "\n",
        "if num > 0:\n",
        "    print(\"The number is positive\")\n",
        "elif num < 0:\n",
        "    print(\"The number is negative\")\n",
        "else:\n",
        "    print(\"The number is zero\")\n"
      ],
      "metadata": {
        "colab": {
          "base_uri": "https://localhost:8080/"
        },
        "id": "pMkgZQ4T5QCd",
        "outputId": "ec93174c-c34b-4b9a-a317-9d4fd215a920"
      },
      "execution_count": 46,
      "outputs": [
        {
          "output_type": "stream",
          "name": "stdout",
          "text": [
            "Enter a number: 5\n",
            "The number is positive\n"
          ]
        }
      ]
    },
    {
      "cell_type": "code",
      "source": [
        "#12. Write a for loop to print numbers from 1 to 10.\n",
        "\n",
        "for i in range (1,11):\n",
        "  print(i)\n"
      ],
      "metadata": {
        "colab": {
          "base_uri": "https://localhost:8080/"
        },
        "id": "CrbIfXBl5Ywk",
        "outputId": "b9327602-2f0f-4e89-c53d-ee47019370f4"
      },
      "execution_count": 53,
      "outputs": [
        {
          "output_type": "stream",
          "name": "stdout",
          "text": [
            "1\n",
            "2\n",
            "3\n",
            "4\n",
            "5\n",
            "6\n",
            "7\n",
            "8\n",
            "9\n",
            "10\n"
          ]
        }
      ]
    },
    {
      "cell_type": "code",
      "source": [
        "#13. Write a Python program to find the sum of all even numbers between 1 and 50.\n",
        "\n",
        "total = 0\n",
        "for i in range(1, 51):\n",
        "    if i % 2 == 0:\n",
        "        total += i\n",
        "\n",
        "print(\"Sum of even numbers from 1 to 50 is:\", total)\n"
      ],
      "metadata": {
        "colab": {
          "base_uri": "https://localhost:8080/"
        },
        "id": "NP9Y8R2r5kPF",
        "outputId": "1d85d7f0-107b-43d0-99a7-ee79bc5c0eb8"
      },
      "execution_count": 54,
      "outputs": [
        {
          "output_type": "stream",
          "name": "stdout",
          "text": [
            "Sum of even numbers from 1 to 50 is: 650\n"
          ]
        }
      ]
    },
    {
      "cell_type": "code",
      "source": [
        "#14. Write a program to reverse a string using a while loop.\n",
        "\n",
        "text = input(\"Enter a string: \")\n",
        "\n",
        "reversed_str = \"\"\n",
        "i = len(text) - 1\n",
        "\n",
        "while i >= 0:\n",
        "    reversed_str += text[i]\n",
        "    i -= 1\n",
        "\n",
        "print(\"Reversed string:\", reversed_str)\n"
      ],
      "metadata": {
        "colab": {
          "base_uri": "https://localhost:8080/"
        },
        "id": "aNrIkBSE6BnC",
        "outputId": "e5d0df6f-fae4-47e8-f949-ef3b06b2b9b3"
      },
      "execution_count": 55,
      "outputs": [
        {
          "output_type": "stream",
          "name": "stdout",
          "text": [
            "Enter a string: nandni\n",
            "Reversed string: indnan\n"
          ]
        }
      ]
    },
    {
      "cell_type": "code",
      "source": [
        "#15. Write a Python program to calculate the factorial of a number provided by the user using a while loop.\n",
        "\n",
        "num = int(input(\"Enter a number: \"))\n",
        "\n",
        "factorial = 1\n",
        "i = 1\n",
        "\n",
        "while i <= num:\n",
        "    factorial *= i   # factorial = factorial * i\n",
        "    i += 1\n",
        "\n",
        "print(f\"Factorial of {num} is {factorial}\")\n"
      ],
      "metadata": {
        "colab": {
          "base_uri": "https://localhost:8080/"
        },
        "id": "GRlGzMe56IqH",
        "outputId": "15639399-ddda-4d68-95c4-d5915eaab56a"
      },
      "execution_count": 56,
      "outputs": [
        {
          "output_type": "stream",
          "name": "stdout",
          "text": [
            "Enter a number: 5\n",
            "Factorial of 5 is 120\n"
          ]
        }
      ]
    },
    {
      "cell_type": "code",
      "source": [],
      "metadata": {
        "id": "5PE53vmq6TJk"
      },
      "execution_count": 56,
      "outputs": []
    }
  ]
}