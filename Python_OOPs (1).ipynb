{
  "nbformat": 4,
  "nbformat_minor": 0,
  "metadata": {
    "colab": {
      "provenance": []
    },
    "kernelspec": {
      "name": "python3",
      "display_name": "Python 3"
    },
    "language_info": {
      "name": "python"
    }
  },
  "cells": [
    {
      "cell_type": "markdown",
      "source": [
        "#OOPs Assignment"
      ],
      "metadata": {
        "id": "3_MN551T6b1q"
      }
    },
    {
      "cell_type": "markdown",
      "source": [
        "1. What is Object-Oriented Programming (OOP)?\n",
        "\n",
        "- Object-Oriented Programming (OOP) is a way of writing code where we organize everything into objects.\n",
        "Each object represents a real-world entity (like car, student, account) and has data (attributes) and functions (methods).\n",
        "\n",
        "2. What is a class in OOP?\n",
        "\n",
        "\n",
        "- A class is a blueprint or template used to create objects.\n",
        "It defines the structure — what data (variables) and what behaviors (functions) the objects will have.\n",
        "\n",
        "3. What is an object in OOP?\n",
        "\n",
        "- An object is an instance of a class.\n",
        "It’s a real example created from the class template.\n",
        "\n",
        "\n",
        "4. What is the difference between abstraction and encapsulation?\n",
        "\n",
        "\n",
        "- Abstraction\tHiding complex details, showing only the needed part.\n",
        "  - You drive a car without knowing how the engine works.\n",
        "- Encapsulation\tBinding data and methods in one unit (class) and controlling access.\n",
        "  - Using private variables in a class.\n",
        "\n",
        "    - In simple terms:\n",
        "    - Abstraction → Hide unnecessary details\n",
        "    - Encapsulation → Protect data from direct access\n",
        "\n",
        "5. What are dunder methods in Python?\n",
        "- Dunder methods are special methods with double underscores before and after their names.\n",
        "like __ init__ ,  __ str__\n",
        "\n",
        "\n",
        "\n",
        "6. Explain the concept of inheritance in OOP.\n",
        "\n",
        "- Inheritance means one class (child) can use the properties and methods of another class (parent).\n",
        "It helps in code reuse.\n",
        "\n",
        "\n"
      ],
      "metadata": {
        "id": "-5ztw2C45_a2"
      }
    },
    {
      "cell_type": "code",
      "source": [
        "#inheritance example:-\n",
        "class Animal:\n",
        "    def sound(self):\n",
        "        print(\"Animal makes sound\")\n",
        "\n",
        "class Dog(Animal):\n",
        "    def bark(self):\n",
        "        print(\"Dog barks\")\n",
        "\n",
        "d = Dog()\n",
        "d.sound()   # From parent class\n",
        "d.bark()    # From child class\n"
      ],
      "metadata": {
        "colab": {
          "base_uri": "https://localhost:8080/"
        },
        "id": "Oc6wCrvT8-V1",
        "outputId": "fc1e8ce8-20be-40a8-f6c4-71e36c8233cb"
      },
      "execution_count": 2,
      "outputs": [
        {
          "output_type": "stream",
          "name": "stdout",
          "text": [
            "Animal makes sound\n",
            "Dog barks\n"
          ]
        }
      ]
    },
    {
      "cell_type": "markdown",
      "source": [
        "7. What is polymorphism in OOP?\n",
        "\n",
        "- Polymorphism means “many forms”.\n",
        "It allows the same method name to behave differently for different objects"
      ],
      "metadata": {
        "id": "SMRzinv85_lL"
      }
    },
    {
      "cell_type": "code",
      "source": [
        "#polymorphism example:-\n",
        "class Cat:\n",
        "    def sound(self):\n",
        "        print(\"Meow\")\n",
        "\n",
        "class Dog:\n",
        "    def sound(self):\n",
        "        print(\"Bark\")\n",
        "\n",
        "for animal in [Cat(), Dog()]:\n",
        "    animal.sound()\n"
      ],
      "metadata": {
        "colab": {
          "base_uri": "https://localhost:8080/"
        },
        "id": "YqZgTxa7Li1P",
        "outputId": "3bd1808f-814e-45b9-b10a-383d5e6d1025"
      },
      "execution_count": 3,
      "outputs": [
        {
          "output_type": "stream",
          "name": "stdout",
          "text": [
            "Meow\n",
            "Bark\n"
          ]
        }
      ]
    },
    {
      "cell_type": "markdown",
      "source": [
        "8. How is encapsulation achieved in Python?\n",
        "\n",
        "\n",
        "- Encapsulation is achieved using private variables and getter/setter methods."
      ],
      "metadata": {
        "id": "EVYZqS_L5_pD"
      }
    },
    {
      "cell_type": "code",
      "source": [
        "#example\n",
        "class Person:\n",
        "    def __init__(self, name):\n",
        "        self.__name = name   # private variable\n",
        "\n",
        "    def get_name(self):\n",
        "        return self.__name\n"
      ],
      "metadata": {
        "id": "AshJds51L46d"
      },
      "execution_count": 4,
      "outputs": []
    },
    {
      "cell_type": "markdown",
      "source": [
        "9. What is a constructor in Python?\n",
        "\n",
        "- A constructor is a special method called automatically when an object is created.\n",
        "In Python, it’s  __ init __()."
      ],
      "metadata": {
        "id": "4GEUOX1a5_qq"
      }
    },
    {
      "cell_type": "code",
      "source": [
        "#example:-\n",
        "class Student:\n",
        "    def __init__(self, name):\n",
        "        self.name = name\n"
      ],
      "metadata": {
        "id": "ARLInJ83MIDE"
      },
      "execution_count": 6,
      "outputs": []
    },
    {
      "cell_type": "markdown",
      "source": [
        "10. What are class and static methods in Python?\n",
        "\n",
        "\n",
        "\n",
        "- Class method → Works with the class (uses @classmethod, takes cls as argument).\n",
        "\n",
        "- Static method → Does not use class or object (uses @staticmethod)."
      ],
      "metadata": {
        "id": "QwLxw_ac5_uq"
      }
    },
    {
      "cell_type": "code",
      "source": [
        "#example\n",
        "class Demo:\n",
        "    count = 0\n",
        "\n",
        "    @classmethod\n",
        "    def show_count(cls):\n",
        "        print(cls.count)\n",
        "\n",
        "    @staticmethod\n",
        "    def greet():\n",
        "        print(\"Hello!\")\n",
        "\n"
      ],
      "metadata": {
        "id": "0fTcRvhLMYW4"
      },
      "execution_count": 8,
      "outputs": []
    },
    {
      "cell_type": "markdown",
      "source": [
        "11. What is method overloading in Python?\n",
        "\n",
        "\n",
        "- Method overloading means having multiple methods with the same name but different parameters.\n",
        "Python doesn’t support it directly — the latest defined method replaces the previous one.\n",
        "We can simulate it using default arguments."
      ],
      "metadata": {
        "id": "sal3PBhz5_wM"
      }
    },
    {
      "cell_type": "markdown",
      "source": [
        "12. What is method overriding in OOP?\n",
        "\n",
        "- Method overriding means a child class redefines a method of its parent class."
      ],
      "metadata": {
        "id": "JAekJ8ep5_0Y"
      }
    },
    {
      "cell_type": "code",
      "source": [
        "#ex:-\n",
        "class Animal:\n",
        "    def sound(self):\n",
        "        print(\"Animal sound\")\n",
        "\n",
        "class Dog(Animal):\n",
        "    def sound(self):\n",
        "        print(\"Dog barks\")\n",
        "\n",
        "Dog().sound()\n"
      ],
      "metadata": {
        "colab": {
          "base_uri": "https://localhost:8080/"
        },
        "id": "ljGTwzOjM_0n",
        "outputId": "72750a4f-b520-4fe2-c99b-c386649d2231"
      },
      "execution_count": 9,
      "outputs": [
        {
          "output_type": "stream",
          "name": "stdout",
          "text": [
            "Dog barks\n"
          ]
        }
      ]
    },
    {
      "cell_type": "markdown",
      "source": [
        "13. What is a property decorator in Python?\n",
        "\n",
        "\n",
        "- The @property decorator lets you access a method like an attribute.\n",
        "It is used to control access to instance variables (like getters/setters)."
      ],
      "metadata": {
        "id": "q0sUVVH95_2D"
      }
    },
    {
      "cell_type": "code",
      "source": [
        "#ex-\n",
        "class Person:\n",
        "    def __init__(self, name):\n",
        "        self._name = name\n",
        "\n",
        "    @property\n",
        "    def name(self):\n",
        "        return self._name\n"
      ],
      "metadata": {
        "id": "jqVd25jANJDr"
      },
      "execution_count": 10,
      "outputs": []
    },
    {
      "cell_type": "markdown",
      "source": [
        "14. Why is polymorphism important in OOP?\n",
        "\n",
        "\n",
        "- Polymorphism helps make code flexible and reusable —\n",
        "you can use the same method name for different object types.\n",
        "\n",
        "   - Example:\n",
        "      - You can call .speak() on any object (Cat, Dog, Human) — each acts differently."
      ],
      "metadata": {
        "id": "kC-2bmgoNauN"
      }
    },
    {
      "cell_type": "markdown",
      "source": [
        "15. What is an abstract class in Python?\n",
        "\n",
        "- An abstract class is a class that cannot be directly used to create objects.\n",
        "It is used as a template for other classes and contains abstract methods (methods without implementation).\n"
      ],
      "metadata": {
        "id": "enhLKaUFNxPS"
      }
    },
    {
      "cell_type": "markdown",
      "source": [
        "16. What are the advantages of OOP?\n",
        "\n",
        "-  Code Reusability: We can reuse code through inheritance, reducing repetition.\n",
        "-  Easy Maintenance: OOP makes programs easier to modify and update.\n",
        "-  Data Security: Encapsulation keeps data safe from direct access.\n",
        "-  Real-World Representation: Classes and objects model real-life entities clearly.\n",
        "-  Flexibility & Extensibility: Polymorphism allows the same code to work with different object types."
      ],
      "metadata": {
        "id": "4PWs2URZPEeC"
      }
    },
    {
      "cell_type": "markdown",
      "source": [
        "17. What is the difference between a class variable and an instance variable?\n",
        "\n",
        "- A class variable is shared by all objects of a class, while an instance variable is unique to each object.\n",
        "- Class variables are defined outside methods, and instance variables are defined inside the constructor (__ init __)."
      ],
      "metadata": {
        "id": "yDIQT44yPVDY"
      }
    },
    {
      "cell_type": "code",
      "source": [
        "#example-\n",
        "class Student:\n",
        "    school = \"ABC School\"      # Class variable\n",
        "    def __init__(self, name):\n",
        "        self.name = name       # Instance variable\n"
      ],
      "metadata": {
        "id": "Yx51eOouNObU"
      },
      "execution_count": 12,
      "outputs": []
    },
    {
      "cell_type": "markdown",
      "source": [
        "18. What is multiple inheritance in Python?\n",
        "\n",
        "- Multiple inheritance means a class can inherit features (methods and attributes) from more than one parent class.\n",
        "- It allows a child class to combine functionalities of multiple classes."
      ],
      "metadata": {
        "id": "4Q33fx2aPwGD"
      }
    },
    {
      "cell_type": "code",
      "source": [
        "#example:-\n",
        "class A:\n",
        "    def showA(self):\n",
        "        print(\"Class A\")\n",
        "\n",
        "class B:\n",
        "    def showB(self):\n",
        "        print(\"Class B\")\n",
        "\n",
        "class C(A, B):      # Inheriting from both A and B\n",
        "    pass\n",
        "\n",
        "obj = C()\n",
        "obj.showA()\n",
        "obj.showB()\n"
      ],
      "metadata": {
        "colab": {
          "base_uri": "https://localhost:8080/"
        },
        "id": "-cU10UCNPm40",
        "outputId": "257437e3-e976-4b3e-e075-299751757612"
      },
      "execution_count": 14,
      "outputs": [
        {
          "output_type": "stream",
          "name": "stdout",
          "text": [
            "Class A\n",
            "Class B\n"
          ]
        }
      ]
    },
    {
      "cell_type": "markdown",
      "source": [
        "19. Explain the purpose of __ str__ and __ repr__ methods in Python.\n",
        "\n",
        "- Both __ str__ and __ repr__ are special (dunder) methods used to represent objects as strings.\n",
        "\n",
        "  -  __ str__() → Returns a user-friendly string, mainly for display.\n",
        "\n",
        "  - __ repr__() → Returns a developer-friendly string, used for debugging.\n",
        "\n"
      ],
      "metadata": {
        "id": "wWhVZtusQH26"
      }
    },
    {
      "cell_type": "code",
      "source": [
        "#ex:-\n",
        "class Book:\n",
        "    def __str__(self):\n",
        "        return \"Readable output\"\n",
        "\n",
        "    def __repr__(self):\n",
        "        return \"Developer output\"\n",
        "\n",
        "\n",
        "    # So, print(obj) calls __str__(), while typing obj in a console uses __repr__().\n"
      ],
      "metadata": {
        "id": "Cv5VTmMLQu9S"
      },
      "execution_count": 16,
      "outputs": []
    },
    {
      "cell_type": "markdown",
      "source": [
        "20. What is the significance of the super() function in Python?\n",
        "\n",
        "- The super() function is used to call methods of the parent class inside a child class.\n",
        "It helps to reuse parent code without rewriting it and is commonly used in constructors for initialization."
      ],
      "metadata": {
        "id": "qETIBIzYQnmt"
      }
    },
    {
      "cell_type": "code",
      "source": [
        "#ex-\n",
        "class Parent:\n",
        "    def __init__(self):\n",
        "        print(\"Parent constructor\")\n",
        "\n",
        "class Child(Parent):\n",
        "    def __init__(self):\n",
        "        super().__init__()   # calls Parent constructor\n",
        "        print(\"Child constructor\")\n",
        "\n",
        "#Here, super() allows the child class to access the parent’s __init__() method."
      ],
      "metadata": {
        "id": "gIVlZfuLRIPl"
      },
      "execution_count": 18,
      "outputs": []
    },
    {
      "cell_type": "markdown",
      "source": [
        "21. What is the significance of the __ del__ method in Python?\n",
        "\n",
        "- The __ del__ method is a destructor in Python.\n",
        "It is called automatically when an object is about to be destroyed or removed from memory.\n",
        "It is useful for cleaning up resources, like closing files or releasing memory.\n",
        "\n",
        " Remember :- __ del__() runs when obj is deleted."
      ],
      "metadata": {
        "id": "_lGiHPpDRkcN"
      }
    },
    {
      "cell_type": "markdown",
      "source": [
        "22. What is the difference between @staticmethod and @classmethod in Python?\n",
        "\n",
        "- In Python, both @staticmethod and @classmethod are used to define methods inside a class that are not typical instance methods, but they have different purposes and ways of working.\n",
        "\n",
        "  - @staticmethod\n",
        "\n",
        "    - A static method does not depend on the class or object.\n",
        "\n",
        "    - It cannot access or modify the class variables or instance variables.\n",
        "\n",
        "- It is mainly used for utility functions that belong to the class logically but do not require class or object data.\n",
        "\n",
        "  - @classmethod\n",
        "\n",
        "    - A class method receives the class itself as the first argument, usually named cls.\n",
        "\n",
        "    - It can access or modify class variables but not instance variables.\n",
        "\n",
        "    - It is often used for factory methods or methods that need to operate on the class level."
      ],
      "metadata": {
        "id": "8gT6b7JVSHnf"
      }
    },
    {
      "cell_type": "markdown",
      "source": [
        "23. How does polymorphism work in Python with inheritance?\n",
        "\n",
        "- Polymorphism in Python allows the same method or operation to behave differently depending on the object that calls it. When combined with inheritance, polymorphism becomes very powerful, because child classes can override parent methods while still being treated as objects of the parent class.\n",
        "\n",
        "  - This means you can write code that works on the parent class type, but it will automatically execute the child class’s overridden method if a child object is used. This makes programs more flexible and reusable."
      ],
      "metadata": {
        "id": "4WByW7OATCT_"
      }
    },
    {
      "cell_type": "markdown",
      "source": [
        "24. What is method chaining in Python OOP?\n",
        "\n",
        "- Method chaining is a technique in Python where multiple methods are called on the same object in a single line.\n",
        "This is achieved by designing methods to return the object itself (self) after performing an operation.\n",
        "\n",
        "- Method chaining makes the code more concise, readable, and fluent, especially when performing multiple operations on the same object."
      ],
      "metadata": {
        "id": "S_XecErrTeXt"
      }
    },
    {
      "cell_type": "markdown",
      "source": [
        "25. What is the purpose of the __ call__ method in Python?\n",
        "\n",
        " - The __ call__ method in Python allows an object of a class to be called like a function.\n",
        "By defining __ call__, you can make an instance behave like a callable, enabling function-like behavior for objects.\n",
        "\n",
        "This is useful when you want to encapsulate functionality in a class but still call it using the familiar function syntax."
      ],
      "metadata": {
        "id": "Zgh-KWl9TquV"
      }
    },
    {
      "cell_type": "markdown",
      "source": [
        "# Practical Questions:-"
      ],
      "metadata": {
        "id": "njZRcWTkUQRv"
      }
    },
    {
      "cell_type": "markdown",
      "source": [
        "###1. Create a parent class Animal with a method speak() that prints a generic message. Create a child class Dog that overrides the speak() method to print \"Bark!\"."
      ],
      "metadata": {
        "id": "9ysI_fF8U6Qn"
      }
    },
    {
      "cell_type": "code",
      "source": [
        "\n",
        "# Parent class\n",
        "class Animal:\n",
        "    def speak(self):\n",
        "        print(\"This is a generic animal sound\")  # Generic message\n",
        "\n",
        "# Child class\n",
        "class Dog(Animal):\n",
        "    def speak(self):\n",
        "        print(\"Bark!\")  # Overriding the parent method\n",
        "\n",
        "# Testing the classes\n",
        "animal = Animal()\n",
        "animal.speak()\n",
        "\n",
        "dog = Dog()\n",
        "dog.speak()\n",
        "\n",
        "#Animal is the parent class with a method speak().\n",
        "\n",
        "#Dog is the child class that overrides the speak() method to provide its own behavior.\n",
        "\n",
        "#When we call dog.speak(), it executes the child class method, not the parent’s."
      ],
      "metadata": {
        "colab": {
          "base_uri": "https://localhost:8080/"
        },
        "id": "9-DIKgs8RKMx",
        "outputId": "1db064ca-3939-436b-d4b4-ac206d810bc3"
      },
      "execution_count": 59,
      "outputs": [
        {
          "output_type": "stream",
          "name": "stdout",
          "text": [
            "This is a generic animal sound\n",
            "Bark!\n"
          ]
        }
      ]
    },
    {
      "cell_type": "markdown",
      "source": [
        "###2. Write a program to create an abstract class Shape with a method area(). Derive classes Circle and Rectangle from it and implement the area() method in both."
      ],
      "metadata": {
        "id": "393ManrfVJZh"
      }
    },
    {
      "cell_type": "code",
      "source": [
        "from abc import ABC, abstractmethod\n",
        "import math\n",
        "\n",
        "# Abstract class\n",
        "class Shape(ABC):\n",
        "    @abstractmethod\n",
        "    def area(self):\n",
        "        pass  # Abstract method, no implementation\n",
        "\n",
        "# Circle class derived from Shape\n",
        "class Circle(Shape):\n",
        "    def __init__(self, radius):\n",
        "        self.radius = radius\n",
        "\n",
        "    def area(self):\n",
        "        return math.pi * self.radius ** 2  # Area of a circle\n",
        "\n",
        "# Rectangle class derived from Shape\n",
        "class Rectangle(Shape):\n",
        "    def __init__(self, length, width):\n",
        "        self.length = length\n",
        "        self.width = width\n",
        "\n",
        "    def area(self):\n",
        "        return self.length * self.width  # Area of a rectangle\n",
        "\n",
        "# Testing\n",
        "circle = Circle(5)\n",
        "rectangle = Rectangle(4, 6)\n",
        "\n",
        "print(\"Circle area:\", circle.area())\n",
        "print(\"Rectangle area:\", rectangle.area())\n"
      ],
      "metadata": {
        "colab": {
          "base_uri": "https://localhost:8080/"
        },
        "id": "_ly0-iPdVYtm",
        "outputId": "51f6d1cd-2f68-4c01-e0b9-766c45989271"
      },
      "execution_count": 58,
      "outputs": [
        {
          "output_type": "stream",
          "name": "stdout",
          "text": [
            "Circle area: 78.53981633974483\n",
            "Rectangle area: 24\n"
          ]
        }
      ]
    },
    {
      "cell_type": "markdown",
      "source": [
        "###3. Implement a multi-level inheritance scenario where a class Vehicle has an attribute type. Derive a class Car and further derive a class ElectricCar that adds a battery attribute"
      ],
      "metadata": {
        "id": "qZtzoz-9Rj-I"
      }
    },
    {
      "cell_type": "code",
      "source": [
        "# Base class\n",
        "class Vehicle:\n",
        "    def __init__(self, type):\n",
        "        self.type = type  # Attribute for vehicle type\n",
        "\n",
        "# Derived class from Vehicle\n",
        "class Car(Vehicle):\n",
        "    def __init__(self, type, brand):\n",
        "        super().__init__(type)  # Call parent constructor\n",
        "        self.brand = brand      # Additional attribute for Car\n",
        "\n",
        "# Derived class from Car\n",
        "class ElectricCar(Car):\n",
        "    def __init__(self, type, brand, battery):\n",
        "        super().__init__(type, brand)  # Call parent constructor\n",
        "        self.battery = battery         # Additional attribute for ElectricCar\n",
        "\n",
        "    def display_info(self):\n",
        "        print(f\"Type: {self.type}, Brand: {self.brand}, Battery: {self.battery} kWh\")\n",
        "\n",
        "# Testing\n",
        "tesla = ElectricCar(\"Car\", \"Tesla\", 100)\n",
        "tesla.display_info()\n"
      ],
      "metadata": {
        "colab": {
          "base_uri": "https://localhost:8080/"
        },
        "id": "VMWfRTfRVp8Z",
        "outputId": "5a1848e6-2487-4531-b127-e0d96dbb761f"
      },
      "execution_count": 57,
      "outputs": [
        {
          "output_type": "stream",
          "name": "stdout",
          "text": [
            "Type: Car, Brand: Tesla, Battery: 100 kWh\n"
          ]
        }
      ]
    },
    {
      "cell_type": "markdown",
      "source": [
        "###4. Demonstrate polymorphism by creating a base class Bird with a method fly(). Create two derived classes Sparrow and Penguin that override the fly() method.\n",
        "\n",
        "\n"
      ],
      "metadata": {
        "id": "NBPDsyGMRj7Z"
      }
    },
    {
      "cell_type": "code",
      "source": [
        "# Base class\n",
        "class Bird:\n",
        "    def fly(self):\n",
        "        print(\"Some birds can fly\")\n",
        "\n",
        "# Derived class 1\n",
        "class Sparrow(Bird):\n",
        "    def fly(self):\n",
        "        print(\"Sparrow can fly\")\n",
        "\n",
        "# Derived class 2\n",
        "class Penguin(Bird):\n",
        "    def fly(self):\n",
        "        print(\"Penguin cannot fly\")\n",
        "\n",
        "# Demonstrating polymorphism\n",
        "birds = [Sparrow(), Penguin()]\n",
        "\n",
        "for bird in birds:\n",
        "    bird.fly()\n",
        "\n",
        "#Bird is the base class with a method fly().\n",
        "\n",
        "#Sparrow and Penguin override the fly() method with their own implementations.\n",
        "\n",
        "#By storing objects of different child classes in a list and calling fly(), the appropriate method for each object is executed.\n"
      ],
      "metadata": {
        "colab": {
          "base_uri": "https://localhost:8080/"
        },
        "id": "UM5oQIIXV7lc",
        "outputId": "58f1a0b9-4c95-45fe-dae8-2f0dccf116cb"
      },
      "execution_count": 28,
      "outputs": [
        {
          "output_type": "stream",
          "name": "stdout",
          "text": [
            "Sparrow can fly\n",
            "Penguin cannot fly\n"
          ]
        }
      ]
    },
    {
      "cell_type": "markdown",
      "source": [
        "###5. Write a program to demonstrate encapsulation by creating a class BankAccount with private attributes balance and methods to deposit, withdraw, and check balance."
      ],
      "metadata": {
        "id": "Crq40yxdRjTz"
      }
    },
    {
      "cell_type": "code",
      "source": [
        "# Class demonstrating encapsulation\n",
        "class BankAccount:\n",
        "    def __init__(self, balance):\n",
        "        self.__balance = balance  # Private attribute\n",
        "\n",
        "    # Method to deposit money\n",
        "    def deposit(self, amount):\n",
        "        self.__balance += amount\n",
        "        print(f\"Deposited: {amount}\")\n",
        "\n",
        "    # Method to withdraw money\n",
        "    def withdraw(self, amount):\n",
        "        if amount <= self.__balance:\n",
        "            self.__balance -= amount\n",
        "            print(f\"Withdrawn: {amount}\")\n",
        "        else:\n",
        "            print(\"Insufficient balance!\")\n",
        "\n",
        "    # Method to check current balance\n",
        "    def check_balance(self):\n",
        "        print(f\"Current Balance: {self.__balance}\")\n",
        "\n",
        "# Testing encapsulation\n",
        "account = BankAccount(1000)  # Initial balance: 1000\n",
        "account.deposit(500)          # Deposited: 500\n",
        "account.withdraw(300)         # Withdrawn: 300\n",
        "account.check_balance()       # Current Balance: 1200\n",
        "\n",
        "# Trying to access private attribute directly will fail\n",
        "# print(account.__balance)    # AttributeError\n"
      ],
      "metadata": {
        "colab": {
          "base_uri": "https://localhost:8080/"
        },
        "id": "rAyvkBWFWYpY",
        "outputId": "2356a3ac-c7ae-4a8a-fab0-03a206894534"
      },
      "execution_count": 29,
      "outputs": [
        {
          "output_type": "stream",
          "name": "stdout",
          "text": [
            "Deposited: 500\n",
            "Withdrawn: 300\n",
            "Current Balance: 1200\n"
          ]
        }
      ]
    },
    {
      "cell_type": "markdown",
      "source": [
        "###6. Demonstrate runtime polymorphism using a method play() in a base class Instrument. Derive classes Guitar and Piano that implement their own version of play()."
      ],
      "metadata": {
        "id": "T2-sbrAIWns-"
      }
    },
    {
      "cell_type": "code",
      "source": [
        "# Base class\n",
        "class Instrument:\n",
        "    def play(self):\n",
        "        print(\"Playing an instrument\")\n",
        "\n",
        "# Derived class 1\n",
        "class Guitar(Instrument):\n",
        "    def play(self):\n",
        "        print(\"Playing the guitar\")\n",
        "\n",
        "# Derived class 2\n",
        "class Piano(Instrument):\n",
        "    def play(self):\n",
        "        print(\"Playing the piano\")\n",
        "\n",
        "# Demonstrating runtime polymorphism\n",
        "instruments = [Guitar(), Piano()]\n",
        "\n",
        "for instrument in instruments:\n",
        "    instrument.play()\n"
      ],
      "metadata": {
        "colab": {
          "base_uri": "https://localhost:8080/"
        },
        "id": "9AViOup0WdPV",
        "outputId": "56d3464c-10f2-4b08-dcbe-8f29e24d4380"
      },
      "execution_count": 31,
      "outputs": [
        {
          "output_type": "stream",
          "name": "stdout",
          "text": [
            "Playing the guitar\n",
            "Playing the piano\n"
          ]
        }
      ]
    },
    {
      "cell_type": "markdown",
      "source": [
        "###7. Create a class MathOperations with a class method add_numbers() to add two numbers and a static method subtract_numbers() to subtract two numbers."
      ],
      "metadata": {
        "id": "H6SUhxjjW9IW"
      }
    },
    {
      "cell_type": "code",
      "source": [
        "# Class demonstrating classmethod and staticmethod\n",
        "class MathOperations:\n",
        "    # Class method\n",
        "    @classmethod\n",
        "    def add_numbers(cls, a, b):\n",
        "        return a + b\n",
        "\n",
        "    # Static method\n",
        "    @staticmethod\n",
        "    def subtract_numbers(a, b):\n",
        "        return a - b\n",
        "\n",
        "# Testing class method\n",
        "sum_result = MathOperations.add_numbers(10, 5)\n",
        "print(\"Sum:\", sum_result)\n",
        "\n",
        "# Testing static method\n",
        "sub_result = MathOperations.subtract_numbers(10, 5)\n",
        "print(\"Difference:\", sub_result)\n"
      ],
      "metadata": {
        "colab": {
          "base_uri": "https://localhost:8080/"
        },
        "id": "lamMyckiW0Hp",
        "outputId": "e4115e47-4a93-48cc-9f7a-b7dd4a40c3da"
      },
      "execution_count": 56,
      "outputs": [
        {
          "output_type": "stream",
          "name": "stdout",
          "text": [
            "Sum: 15\n",
            "Difference: 5\n"
          ]
        }
      ]
    },
    {
      "cell_type": "markdown",
      "source": [
        "###8. Implement a class Person with a class method to count the total number of persons created."
      ],
      "metadata": {
        "id": "yA_9bd-SW8bU"
      }
    },
    {
      "cell_type": "code",
      "source": [
        "# Class demonstrating class method to count objects\n",
        "class Person:\n",
        "    count = 0  # Class variable to keep track of total persons\n",
        "\n",
        "    def __init__(self, name):\n",
        "        self.name = name\n",
        "        Person.count += 1  # Increment count whenever a new person is created\n",
        "\n",
        "    # Class method to display total number of persons\n",
        "    @classmethod\n",
        "    def total_persons(cls):\n",
        "        print(f\"Total persons created: {cls.count}\")\n",
        "\n",
        "# Creating objects\n",
        "p1 = Person(\"Alice\")\n",
        "p2 = Person(\"Bob\")\n",
        "p3 = Person(\"Charlie\")\n",
        "\n",
        "# Using class method to check total persons\n",
        "Person.total_persons()\n"
      ],
      "metadata": {
        "colab": {
          "base_uri": "https://localhost:8080/"
        },
        "id": "T78YubEdXPP_",
        "outputId": "99896d27-a569-497f-aedd-509b684d6606"
      },
      "execution_count": 55,
      "outputs": [
        {
          "output_type": "stream",
          "name": "stdout",
          "text": [
            "Total persons created: 3\n"
          ]
        }
      ]
    },
    {
      "cell_type": "markdown",
      "source": [
        "###9. Write a class Fraction with attributes numerator and denominator. Override the str method to display the fraction as \"numerator/denominator\"."
      ],
      "metadata": {
        "id": "bITUCgYYXZKx"
      }
    },
    {
      "cell_type": "code",
      "source": [
        "# Class to represent a fraction\n",
        "class Fraction:\n",
        "    def __init__(self, numerator, denominator):\n",
        "        self.numerator = numerator\n",
        "        self.denominator = denominator\n",
        "\n",
        "    # Overriding the __str__ method\n",
        "    def __str__(self):\n",
        "        return f\"{self.numerator}/{self.denominator}\"\n",
        "\n",
        "# Testing\n",
        "f1 = Fraction(3, 4)\n",
        "f2 = Fraction(7, 2)\n",
        "\n",
        "print(f1)\n",
        "print(f2)\n"
      ],
      "metadata": {
        "colab": {
          "base_uri": "https://localhost:8080/"
        },
        "id": "tBHUlUILXUMJ",
        "outputId": "6b49a371-a89c-4d57-82fb-866e9381c433"
      },
      "execution_count": 54,
      "outputs": [
        {
          "output_type": "stream",
          "name": "stdout",
          "text": [
            "3/4\n",
            "7/2\n"
          ]
        }
      ]
    },
    {
      "cell_type": "markdown",
      "source": [
        "###10. Demonstrate operator overloading by creating a class Vector and overriding the add method to add two vectors."
      ],
      "metadata": {
        "id": "1ExY3pm6Xx9Y"
      }
    },
    {
      "cell_type": "code",
      "source": [
        "# Class to represent a vector\n",
        "class Vector:\n",
        "    def __init__(self, x, y):\n",
        "        self.x = x\n",
        "        self.y = y\n",
        "\n",
        "    # Overloading the + operator\n",
        "    def __add__(self, other):\n",
        "        return Vector(self.x + other.x, self.y + other.y)\n",
        "\n",
        "    # Overriding __str__ to display the vector nicely\n",
        "    def __str__(self):\n",
        "        return f\"({self.x}, {self.y})\"\n",
        "\n",
        "# Testing the Vector class\n",
        "v1 = Vector(2, 3)\n",
        "v2 = Vector(4, 5)\n",
        "\n",
        "v3 = v1 + v2  # Calls the __add__ method\n",
        "\n",
        "print(\"Vector 1:\", v1)\n",
        "print(\"Vector 2:\", v2)\n",
        "print(\"Sum of Vectors:\", v3)\n"
      ],
      "metadata": {
        "colab": {
          "base_uri": "https://localhost:8080/"
        },
        "id": "U5Ban2loXfjU",
        "outputId": "047864b1-c3e9-4e3b-a991-25bd7a0bae15"
      },
      "execution_count": 53,
      "outputs": [
        {
          "output_type": "stream",
          "name": "stdout",
          "text": [
            "Vector 1: (2, 3)\n",
            "Vector 2: (4, 5)\n",
            "Sum of Vectors: (6, 8)\n"
          ]
        }
      ]
    },
    {
      "cell_type": "markdown",
      "source": [
        "###11. Create a class Person with attributes name and age. Add a method greet() that prints \"Hello, my name is {name} and I am {age} years old.\""
      ],
      "metadata": {
        "id": "kIvpldbbX_tL"
      }
    },
    {
      "cell_type": "code",
      "source": [
        "# Class to represent a person\n",
        "class Person:\n",
        "    def __init__(self, name, age):\n",
        "        self.name = name  # Attribute for name\n",
        "        self.age = age    # Attribute for age\n",
        "\n",
        "    # Method to greet\n",
        "    def greet(self):\n",
        "        print(f\"Hello, my name is {self.name} and I am {self.age} years old.\")\n",
        "\n",
        "# Testing\n",
        "person1 = Person(\"Alice\", 25)\n",
        "person2 = Person(\"Bob\", 30)\n",
        "\n",
        "person1.greet()\n",
        "person2.greet()\n"
      ],
      "metadata": {
        "colab": {
          "base_uri": "https://localhost:8080/"
        },
        "id": "kgH2E6YGX3L4",
        "outputId": "a95ac6e3-a061-41a9-f4a5-34d2b34e6935"
      },
      "execution_count": 52,
      "outputs": [
        {
          "output_type": "stream",
          "name": "stdout",
          "text": [
            "Hello, my name is Alice and I am 25 years old.\n",
            "Hello, my name is Bob and I am 30 years old.\n"
          ]
        }
      ]
    },
    {
      "cell_type": "markdown",
      "source": [
        "###12. Implement a class Student with attributes name and grades. Create a method average_grade() to compute the average of the grades"
      ],
      "metadata": {
        "id": "lKe4-zvNY2IJ"
      }
    },
    {
      "cell_type": "code",
      "source": [
        "# Class to represent a student\n",
        "class Student:\n",
        "    def __init__(self, name, grades):\n",
        "        self.name = name        # Attribute for student name\n",
        "        self.grades = grades    # Attribute for list of grades\n",
        "\n",
        "    # Method to calculate average grade\n",
        "    def average_grade(self):\n",
        "        if len(self.grades) == 0:\n",
        "            return 0\n",
        "        return sum(self.grades) / len(self.grades)\n",
        "\n",
        "# Testing\n",
        "student1 = Student(\"Alice\", [85, 90, 78, 92])\n",
        "student2 = Student(\"Bob\", [70, 75, 80])\n",
        "\n",
        "print(f\"{student1.name}'s average grade: {student1.average_grade():.2f}\")\n",
        "\n",
        "print(f\"{student2.name}'s average grade: {student2.average_grade():.2f}\")\n",
        "\n"
      ],
      "metadata": {
        "colab": {
          "base_uri": "https://localhost:8080/"
        },
        "id": "nlge8HTWY7pk",
        "outputId": "40d07576-62fb-4182-ef7c-0b10037a3c19"
      },
      "execution_count": 39,
      "outputs": [
        {
          "output_type": "stream",
          "name": "stdout",
          "text": [
            "Alice's average grade: 86.25\n",
            "Bob's average grade: 75.00\n"
          ]
        }
      ]
    },
    {
      "cell_type": "markdown",
      "source": [
        "### 13. Create a class Rectangle with methods set_dimensions() to set the dimensions and area() to calculate the area."
      ],
      "metadata": {
        "id": "53uKrSFaZhUa"
      }
    },
    {
      "cell_type": "code",
      "source": [
        "# Class to represent a rectangle\n",
        "class Rectangle:\n",
        "    def __init__(self):\n",
        "        self.length = 0  # Initialize length\n",
        "        self.width = 0   # Initialize width\n",
        "\n",
        "    # Method to set the dimensions\n",
        "    def set_dimensions(self, length, width):\n",
        "        self.length = length\n",
        "        self.width = width\n",
        "\n",
        "    # Method to calculate area\n",
        "    def area(self):\n",
        "        return self.length * self.width\n",
        "\n",
        "# Testing\n",
        "rect = Rectangle()\n",
        "rect.set_dimensions(5, 8)\n",
        "print(\"Area of rectangle:\", rect.area())\n"
      ],
      "metadata": {
        "colab": {
          "base_uri": "https://localhost:8080/"
        },
        "id": "48WWa64WZCr0",
        "outputId": "97d00672-52d5-447b-ae99-3e449018121f"
      },
      "execution_count": 51,
      "outputs": [
        {
          "output_type": "stream",
          "name": "stdout",
          "text": [
            "Area of rectangle: 40\n"
          ]
        }
      ]
    },
    {
      "cell_type": "markdown",
      "source": [
        "###14. Create a class Employee with a method calculate_salary() that computes the salary based on hours worked and hourly rate. Create a derived class Manager that adds a bonus to the salary"
      ],
      "metadata": {
        "id": "tocf2vBFZ5Zu"
      }
    },
    {
      "cell_type": "code",
      "source": [
        "# Base class\n",
        "class Employee:\n",
        "    def __init__(self, name, hours_worked, hourly_rate):\n",
        "        self.name = name\n",
        "        self.hours_worked = hours_worked\n",
        "        self.hourly_rate = hourly_rate\n",
        "\n",
        "    # Method to calculate salary\n",
        "    def calculate_salary(self):\n",
        "        return self.hours_worked * self.hourly_rate\n",
        "\n",
        "# Derived class\n",
        "class Manager(Employee):\n",
        "    def __init__(self, name, hours_worked, hourly_rate, bonus):\n",
        "        super().__init__(name, hours_worked, hourly_rate)\n",
        "        self.bonus = bonus  # Additional attribute for Manager\n",
        "\n",
        "    # Overriding calculate_salary to include bonus\n",
        "    def calculate_salary(self):\n",
        "        base_salary = super().calculate_salary()\n",
        "        return base_salary + self.bonus\n",
        "\n",
        "# Testing\n",
        "emp1 = Employee(\"Alice\", 40, 200)\n",
        "mgr1 = Manager(\"Bob\", 40, 200, 1000)\n",
        "\n",
        "print(f\"{emp1.name}'s salary: {emp1.calculate_salary()}\")\n",
        "print(f\"{mgr1.name}'s salary: {mgr1.calculate_salary()}\")\n"
      ],
      "metadata": {
        "colab": {
          "base_uri": "https://localhost:8080/"
        },
        "id": "MpeZpIDWZwih",
        "outputId": "83a41d18-f2af-4331-e1d7-eec45168fff0"
      },
      "execution_count": 50,
      "outputs": [
        {
          "output_type": "stream",
          "name": "stdout",
          "text": [
            "Alice's salary: 8000\n",
            "Bob's salary: 9000\n"
          ]
        }
      ]
    },
    {
      "cell_type": "markdown",
      "source": [
        "###15. Create a class Product with attributes name, price, and quantity. Implement a method total_price() that calculates the total price of the product."
      ],
      "metadata": {
        "id": "ZrsAgy86Z43m"
      }
    },
    {
      "cell_type": "code",
      "source": [
        "# Class to represent a product\n",
        "class Product:\n",
        "    def __init__(self, name, price, quantity):\n",
        "        self.name = name        # Product name\n",
        "        self.price = price      # Price per unit\n",
        "        self.quantity = quantity  # Quantity of product\n",
        "\n",
        "    # Method to calculate total price\n",
        "    def total_price(self):\n",
        "        return self.price * self.quantity\n",
        "\n",
        "# Testing\n",
        "product1 = Product(\"Laptop\", 50000, 2)\n",
        "product2 = Product(\"Phone\", 20000, 3)\n",
        "\n",
        "print(f\"Total price of {product1.name}: {product1.total_price()}\")\n",
        "print(f\"Total price of {product2.name}: {product2.total_price()}\")\n"
      ],
      "metadata": {
        "colab": {
          "base_uri": "https://localhost:8080/"
        },
        "id": "-ixmzUF9aL0z",
        "outputId": "f2c4a1b5-4e51-42b9-ed49-f90b0275a1a2"
      },
      "execution_count": 49,
      "outputs": [
        {
          "output_type": "stream",
          "name": "stdout",
          "text": [
            "Total price of Laptop: 100000\n",
            "Total price of Phone: 60000\n"
          ]
        }
      ]
    },
    {
      "cell_type": "markdown",
      "source": [
        "###16. Create a class Animal with an abstract method sound(). Create two derived classes Cow and Sheep that implement the sound() method."
      ],
      "metadata": {
        "id": "Z1TfmwHAaR6F"
      }
    },
    {
      "cell_type": "code",
      "source": [
        "from abc import ABC, abstractmethod\n",
        "\n",
        "# Abstract base class\n",
        "class Animal(ABC):\n",
        "    @abstractmethod\n",
        "    def sound(self):\n",
        "        pass  # Abstract method\n",
        "\n",
        "# Derived class Cow\n",
        "class Cow(Animal):\n",
        "    def sound(self):\n",
        "        print(\"Cow says Moo!\")\n",
        "\n",
        "# Derived class Sheep\n",
        "class Sheep(Animal):\n",
        "    def sound(self):\n",
        "        print(\"Sheep says Baa!\")\n",
        "\n",
        "# Testing\n",
        "cow = Cow()\n",
        "sheep = Sheep()\n",
        "\n",
        "cow.sound()\n",
        "sheep.sound()\n"
      ],
      "metadata": {
        "colab": {
          "base_uri": "https://localhost:8080/"
        },
        "id": "QBtx1ph9aOdE",
        "outputId": "416cb7ac-b0d3-4eda-cc06-c62a94a13e8b"
      },
      "execution_count": 44,
      "outputs": [
        {
          "output_type": "stream",
          "name": "stdout",
          "text": [
            "Cow says Moo!\n",
            "Sheep says Baa!\n"
          ]
        }
      ]
    },
    {
      "cell_type": "markdown",
      "source": [
        "###17. Create a class Book with attributes title, author, and year_published. Add a method get_book_info() that returns a formatted string with the book's details."
      ],
      "metadata": {
        "id": "WF8_nKZ2a8th"
      }
    },
    {
      "cell_type": "code",
      "source": [
        "# Class to represent a book\n",
        "class Book:\n",
        "    def __init__(self, title, author, year_published):\n",
        "        self.title = title\n",
        "        self.author = author\n",
        "        self.year_published = year_published\n",
        "\n",
        "    # Method to return book information\n",
        "    def get_book_info(self):\n",
        "        return f\"'{self.title}' by {self.author}, published in {self.year_published}\"\n",
        "\n",
        "# Testing\n",
        "book1 = Book(\"1984\", \"George Orwell\", 1949)\n",
        "book2 = Book(\"To Kill a Mockingbird\", \"Harper Lee\", 1960)\n",
        "\n",
        "print(book1.get_book_info())\n",
        "print(book2.get_book_info())\n",
        "\n"
      ],
      "metadata": {
        "colab": {
          "base_uri": "https://localhost:8080/"
        },
        "id": "cX5uRLc4afih",
        "outputId": "59bfef28-25ea-48f1-851a-c8fe8d192e6c"
      },
      "execution_count": 48,
      "outputs": [
        {
          "output_type": "stream",
          "name": "stdout",
          "text": [
            "'1984' by George Orwell, published in 1949\n",
            "'To Kill a Mockingbird' by Harper Lee, published in 1960\n"
          ]
        }
      ]
    },
    {
      "cell_type": "markdown",
      "source": [
        "###18. Create a class House with attributes address and price. Create a derived class Mansion that adds an attribute number_of_rooms."
      ],
      "metadata": {
        "id": "iccHBjW_bGpq"
      }
    },
    {
      "cell_type": "code",
      "source": [
        "# Base class\n",
        "class House:\n",
        "    def __init__(self, address, price):\n",
        "        self.address = address  # Attribute for house address\n",
        "        self.price = price      # Attribute for house price\n",
        "\n",
        "    # Method to display house info\n",
        "    def display_info(self):\n",
        "        print(f\"Address: {self.address}, Price: ${self.price}\")\n",
        "\n",
        "# Derived class\n",
        "class Mansion(House):\n",
        "    def __init__(self, address, price, number_of_rooms):\n",
        "        super().__init__(address, price)  # Call parent constructor\n",
        "        self.number_of_rooms = number_of_rooms  # Additional attribute\n",
        "\n",
        "    # Method to display mansion info\n",
        "    def display_info(self):\n",
        "        print(f\"Address: {self.address}, Price: ${self.price}, Rooms: {self.number_of_rooms}\")\n",
        "\n",
        "# Testing\n",
        "house1 = House(\"123 Main St\", 200000)\n",
        "mansion1 = Mansion(\"456 Luxury Ave\", 1500000, 10)\n",
        "\n",
        "house1.display_info()\n",
        "mansion1.display_info()\n"
      ],
      "metadata": {
        "colab": {
          "base_uri": "https://localhost:8080/"
        },
        "id": "c718hR0WbBMu",
        "outputId": "1e106487-058f-4d66-838d-45581bb60c9d"
      },
      "execution_count": 47,
      "outputs": [
        {
          "output_type": "stream",
          "name": "stdout",
          "text": [
            "Address: 123 Main St, Price: $200000\n",
            "Address: 456 Luxury Ave, Price: $1500000, Rooms: 10\n"
          ]
        }
      ]
    },
    {
      "cell_type": "code",
      "source": [],
      "metadata": {
        "id": "QYWuide5bLc3"
      },
      "execution_count": null,
      "outputs": []
    }
  ]
}