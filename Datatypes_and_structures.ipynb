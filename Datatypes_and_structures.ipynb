{
  "nbformat": 4,
  "nbformat_minor": 0,
  "metadata": {
    "colab": {
      "provenance": []
    },
    "kernelspec": {
      "name": "python3",
      "display_name": "Python 3"
    },
    "language_info": {
      "name": "python"
    }
  },
  "cells": [
    {
      "cell_type": "markdown",
      "source": [
        "#**Python Data-types and Structures Questions**"
      ],
      "metadata": {
        "id": "j0BwtZ46ApHI"
      }
    },
    {
      "cell_type": "markdown",
      "source": [
        "1. What are data structures, and why are they important?\n",
        "- Data structures are organized formats to store and manage data efficiently. They are important because they optimize performance for operations like searching, sorting, and modifying data. Examples: lists, tuples, sets, dictionaries.\n",
        "\n",
        "2. Difference between mutable and immutable data types with examples.\n",
        "\n",
        "- Mutable: Can be changed after creation.\n",
        " -  Example:\n",
        "\n",
        "        my_list = [1, 2, 3]\n",
        "\n",
        "        my_list[0] = 10  # Allowed\n",
        "\n",
        "\n",
        "- Immutable: Cannot be changed once created.\n",
        " - Example:\n",
        "\n",
        "        my_tuple = (1, 2, 3)\n",
        "\n",
        "        my_tuple[0] = 10 # Error\n",
        "\n",
        "3.  What are the main differences between lists and tuples in Python?\n",
        "\n",
        "- List: Mutable, slower in execution, more memory usage, syntax [].\n",
        "\n",
        "- Tuple: Immutable, faster (due to fixed size), more memory-efficient, syntax ().\n",
        "\n",
        "  Use :- lists when data may change; use tuples when data must remain constant.\n",
        "\n",
        " 4.  Describe how dictionaries store data?\n",
        "- A dictionary stores data as key–value pairs. Each key is like a unique label, and Python uses a special method (hashing) to quickly find the value linked to that key. This makes searching very fast.\n",
        "\n",
        "  -  Example:\n",
        "   \n",
        "        student = {\"name\": \"Raj\", \"age\": 20}\n",
        "\n",
        "\n",
        "  Here: \"name\" and \"age\" are keys, and \"Raj\", 20 are their values.\n",
        "\n",
        "5. Why might you use a set instead of a list in Python?\n",
        "\n",
        "- Removes duplicate values automatically.\n",
        "\n",
        "- Provides faster membership testing (x in set is faster than x in list).\n",
        "\n",
        "- Useful for mathematical operations like union, intersection, difference.\n",
        "\n",
        "6. What is a string in Python, and how is it different from a list?\n",
        "\n",
        "- A string is an immutable sequence of characters.\n",
        "  - Example: \"hello\".\n",
        "\n",
        "- A list is a mutable collection of items, which can be numbers, strings, or objects.\n",
        "  - Example: [1, \"hello\", 3.5].\n",
        "\n",
        "Main difference: strings cannot be modified directly, lists can.\n",
        "\n",
        "7. How do tuples ensure data integrity in Python?\n",
        "- Since tuples are immutable, their contents cannot be modified, which prevents accidental changes. This makes them reliable for storing fixed data like constants, coordinates, or configurations.\n",
        "\n",
        "8. What is a hash table, and how does it relate to dictionaries in Python?\n",
        "- A hash table stores data in key–value pairs using hashing. Python dictionaries are implemented using hash tables, which is why dictionary operations like insert, delete, and lookup are efficient.\n",
        "\n",
        "9.  Can lists contain different data types in Python?\n",
        "- Yes, lists can hold integers, strings, floats, and even other lists/objects together.\n",
        "\n",
        "\n",
        "10. Explain why strings are immutable in Python?\n",
        "\n",
        "- Memory saving: Same string can be reused instead of creating new ones.\n",
        "\n",
        "- Safety: If many parts of a program use the same string, it won’t suddenly change.\n",
        "\n",
        "- Speed: Since strings can’t change, Python doesn’t need to keep track of edits, making it faster.\n",
        "\n",
        "  -  Example:\n",
        "\n",
        "         s = \"hello\"\n",
        "         s[0] = \"H\"   # Not allowed, string is immutable\n",
        "\n",
        "11. What advantages do dictionaries offer over lists for certain tasks?\n",
        "- Faster search: You can directly find values using keys (no need to check one by one).\n",
        "\n",
        "- Clear meaning: Keys make data easier to understand (like \"name\": \"Raj\").\n",
        "\n",
        "- Better mapping: Good for showing relationships (student → marks, country → capital).\n",
        "\n",
        "- No index needed: You don’t have to remember positions like in a list.\n",
        "\n",
        "  - Example:\n",
        "\n",
        "            student = {\"name\": \"Raj\", \"marks\": 85}\n",
        "\n",
        "\n",
        "   Here, \"name\" and \"marks\" make it clear what each value means.\n",
        "\n",
        "12. Describe a scenario where using a tuple would be preferable over a list?\n",
        "- Use tuples when data should not change (like days of the week, or coordinates (28.6, 77.2)).\n",
        "\n",
        "- Tuples keep data safe from accidental changes.\n",
        "\n",
        "- Tuples can be used as keys in dictionaries, but lists cannot.\n",
        "\n",
        "  -  Example:\n",
        "\n",
        "         location = (28.6, 77.2)   # latitude, longitude\n",
        "\n",
        "13. How do sets handle duplicate values in Python?\n",
        "-  Sets automatically remove duplicates and store only unique elements.\n",
        "\n",
        "        s = {1, 2, 2, 3}\n",
        "        print(s)   # {1, 2, 3}\n",
        "\n",
        "14. How does the “in” keyword work differently for lists and dictionaries?\n",
        "\n",
        "\n",
        "- In lists, it checks if an element exists.\n",
        "\n",
        "- In dictionaries, it checks if a key exists.\n",
        "\n",
        "      print(2 in [1,2,3])        # True\n",
        "      print(\"name\" in {\"name\": \"Nandini\"})  # True\n",
        "\n",
        "15. Can you modify the elements of a tuple? Explain why or why not?\n",
        "- No, tuples are immutable → elements cannot be changed after creation.\n",
        "\n",
        "      t = (1, 2, 3)\n",
        "      t[0] = 10 → Error\n",
        "16. What is a nested dictionary, and give an example of its use case?\n",
        "- A dictionary inside another dictionary.\n",
        "\n",
        "- Useful for structured data (e.g., storing student info).\n",
        "\n",
        "        student = {\n",
        "          \"101\": {\"name\": \"Aman\", \"age\": 20},\n",
        "          \"102\": {\"name\": \"Nandini\", \"age\": 22}}\n",
        "\n",
        "17. Describe the time complexity of accessing elements in a dictionary?\n",
        "- O(1) on average (uses hash tables).\n",
        "\n",
        "- Very fast lookups compared to lists (O(n)).\n",
        "\n",
        "18. In what situations are lists preferred over dictionaries?\n",
        "- When order matters.\n",
        "\n",
        "- When you just need a simple sequence (e.g., [10, 20, 30])\n",
        "\n",
        "\n",
        "19. Why are dictionaries considered unordered, and how does that affect data retrieval?\n",
        "- Dictionaries store data as key–value pairs using hash tables.\n",
        "\n",
        "- Before Python 3.7, dictionaries did not guarantee insertion order, so you couldn’t rely on the order of items.\n",
        "Data retrieval is always done by key, not by position, which makes it fast and independent of order.\n",
        "\n",
        "  -  Example:\n",
        "\n",
        "         d = {\"a\": 1, \"b\": 2, \"c\": 3}\n",
        "\n",
        "         print(d[\"b\"])   # 2 (retrieved by key, not position)\n",
        "\n",
        "20. Explain the difference between a list and a dictionary in terms of data retrieval?\n",
        "\n",
        "- List → Data is retrieved by index (position).\n",
        "\n",
        "        mylist = [10, 20, 30]\n",
        "        print(mylist[1])   # 20 (second element)\n",
        "\n",
        "\n",
        "- Dictionary → Data is retrieved by key.\n",
        "\n",
        "        mydict = {\"id\": 101, \"name\": \"Nandini\"}\n",
        "        print(mydict[\"name\"])   # Nandini\n",
        "\n",
        "\n",
        "   So, lists use numeric positions, while dictionaries use unique keys for retrieval.\n",
        "\n",
        "\n",
        "\n"
      ],
      "metadata": {
        "id": "fhd0ouzuBIAc"
      }
    },
    {
      "cell_type": "code",
      "source": [],
      "metadata": {
        "id": "pKFCj3DWAmH7"
      },
      "execution_count": null,
      "outputs": []
    },
    {
      "cell_type": "markdown",
      "source": [
        "#**Practical Questions**"
      ],
      "metadata": {
        "id": "oGJv8wHTgvfm"
      }
    },
    {
      "cell_type": "code",
      "source": [
        "#1 Write a code to create a string with your name and print it.\n",
        "\n",
        "name = \"Nandini\"\n",
        "print(name)\n"
      ],
      "metadata": {
        "colab": {
          "base_uri": "https://localhost:8080/"
        },
        "id": "1slmf1qFir_f",
        "outputId": "9485fc87-6446-4b71-bdc6-c79c44c3db45"
      },
      "execution_count": 3,
      "outputs": [
        {
          "output_type": "stream",
          "name": "stdout",
          "text": [
            "Nandini\n"
          ]
        }
      ]
    },
    {
      "cell_type": "code",
      "source": [
        "#2 Write a code to find the length of the string \"Hello World\".\n",
        "\n",
        "text = \"Hello World\"\n",
        "print(len(text))\n"
      ],
      "metadata": {
        "colab": {
          "base_uri": "https://localhost:8080/"
        },
        "id": "DtbG0Km2jgej",
        "outputId": "c148313c-5fb2-40a8-84f2-e9090b235901"
      },
      "execution_count": 4,
      "outputs": [
        {
          "output_type": "stream",
          "name": "stdout",
          "text": [
            "11\n"
          ]
        }
      ]
    },
    {
      "cell_type": "code",
      "source": [
        "#3 Write a code to slice the first 3 characters from the string \"Python Programming\".\n",
        "text = \"Python Programming\"\n",
        "print(text[:3])\n"
      ],
      "metadata": {
        "colab": {
          "base_uri": "https://localhost:8080/"
        },
        "id": "3uqzLwz_jm0x",
        "outputId": "53a981d0-1a02-4efe-e34e-c90b6f4ac3dc"
      },
      "execution_count": 5,
      "outputs": [
        {
          "output_type": "stream",
          "name": "stdout",
          "text": [
            "Pyt\n"
          ]
        }
      ]
    },
    {
      "cell_type": "code",
      "source": [
        "#4 Write a code to convert the string \"hello\" to uppercase\n",
        "\n",
        "text = \"hello\"\n",
        "print(text.upper())"
      ],
      "metadata": {
        "colab": {
          "base_uri": "https://localhost:8080/"
        },
        "id": "ZGtdSDdLjyC4",
        "outputId": "0d461cb2-d67e-4c7c-dca5-6439d1dfd9a6"
      },
      "execution_count": 6,
      "outputs": [
        {
          "output_type": "stream",
          "name": "stdout",
          "text": [
            "HELLO\n"
          ]
        }
      ]
    },
    {
      "cell_type": "code",
      "source": [
        "#5 Write a code to replace the word \"apple\" with \"orange\" in the string \"I like apple\"\n",
        "\n",
        "text = \"I like apple\"\n",
        "print(text.replace(\"apple\", \"orange\"))"
      ],
      "metadata": {
        "colab": {
          "base_uri": "https://localhost:8080/"
        },
        "id": "ApUj3BUfj-J_",
        "outputId": "ba92bca3-a933-4a1d-86b1-a393ebd7fe92"
      },
      "execution_count": 7,
      "outputs": [
        {
          "output_type": "stream",
          "name": "stdout",
          "text": [
            "I like orange\n"
          ]
        }
      ]
    },
    {
      "cell_type": "code",
      "source": [
        "#6 Write a code to create a list with numbers 1 to 5 and print it.\n",
        "\n",
        "numbers = [1, 2, 3, 4, 5]\n",
        "print(numbers)"
      ],
      "metadata": {
        "colab": {
          "base_uri": "https://localhost:8080/"
        },
        "id": "MCsXisKukeG_",
        "outputId": "8f40ca71-ca8f-4b83-9585-bbbc8fef061c"
      },
      "execution_count": 8,
      "outputs": [
        {
          "output_type": "stream",
          "name": "stdout",
          "text": [
            "[1, 2, 3, 4, 5]\n"
          ]
        }
      ]
    },
    {
      "cell_type": "code",
      "source": [
        "#7 Write a code to append the number 10 to the list [1, 2, 3, 4]\n",
        "\n",
        "numbers = [1, 2, 3, 4]\n",
        "numbers.append(10)\n",
        "print(numbers)"
      ],
      "metadata": {
        "colab": {
          "base_uri": "https://localhost:8080/"
        },
        "id": "9Z1voKEMkpxx",
        "outputId": "f9f556fd-6c2c-493b-ab95-b9cb56e2cc55"
      },
      "execution_count": 9,
      "outputs": [
        {
          "output_type": "stream",
          "name": "stdout",
          "text": [
            "[1, 2, 3, 4, 10]\n"
          ]
        }
      ]
    },
    {
      "cell_type": "code",
      "source": [
        "#8 Write a code to remove the number 3 from the list [1, 2, 3, 4, 5]\n",
        "\n",
        "numbers = [1, 2, 3, 4, 5]\n",
        "numbers.remove(3)\n",
        "print(numbers)"
      ],
      "metadata": {
        "colab": {
          "base_uri": "https://localhost:8080/"
        },
        "id": "WoGoLVsuk0Yy",
        "outputId": "e7d6c428-d1e5-4027-8537-da14badc9bfc"
      },
      "execution_count": 10,
      "outputs": [
        {
          "output_type": "stream",
          "name": "stdout",
          "text": [
            "[1, 2, 4, 5]\n"
          ]
        }
      ]
    },
    {
      "cell_type": "code",
      "source": [
        "#9 Write a code to access the second element in the list ['a', 'b', 'c', 'd']\n",
        "\n",
        "letters = ['a', 'b', 'c', 'd']\n",
        "print(letters[1])"
      ],
      "metadata": {
        "colab": {
          "base_uri": "https://localhost:8080/"
        },
        "id": "nH7W6Jgvk4IK",
        "outputId": "934d54d2-9155-4205-eb0d-2f31f75d5c4d"
      },
      "execution_count": 11,
      "outputs": [
        {
          "output_type": "stream",
          "name": "stdout",
          "text": [
            "b\n"
          ]
        }
      ]
    },
    {
      "cell_type": "code",
      "source": [
        "#10 Write a code to reverse the list [10, 20, 30, 40, 50].\n",
        "\n",
        "numbers = [10, 20, 30, 40, 50]\n",
        "numbers.reverse()\n",
        "print(numbers)"
      ],
      "metadata": {
        "colab": {
          "base_uri": "https://localhost:8080/"
        },
        "id": "TIeO-DSPlA3E",
        "outputId": "346b5569-b0d2-41aa-d9f4-aef31f20fe20"
      },
      "execution_count": 12,
      "outputs": [
        {
          "output_type": "stream",
          "name": "stdout",
          "text": [
            "[50, 40, 30, 20, 10]\n"
          ]
        }
      ]
    },
    {
      "cell_type": "code",
      "source": [
        "#11 Write a code to create a tuple with the elements 100, 200, 300 and print it.\n",
        "\n",
        "t = (100, 200, 300)\n",
        "print(t)"
      ],
      "metadata": {
        "colab": {
          "base_uri": "https://localhost:8080/"
        },
        "id": "Uz7tBpvPlNNp",
        "outputId": "3e9e8973-8373-48bf-a186-630581bedcc5"
      },
      "execution_count": 14,
      "outputs": [
        {
          "output_type": "stream",
          "name": "stdout",
          "text": [
            "(100, 200, 300)\n"
          ]
        }
      ]
    },
    {
      "cell_type": "code",
      "source": [
        "#12. Write a code to access the second-to-last element of the tuple ('red', 'green', 'blue', 'yellow').\n",
        "\n",
        "colors = ('red', 'green', 'blue', 'yellow')\n",
        "print(colors[-2])"
      ],
      "metadata": {
        "colab": {
          "base_uri": "https://localhost:8080/"
        },
        "id": "8S-G8kJEl07r",
        "outputId": "f456d242-ad1f-41d1-a1d1-9aed7cdcadcf"
      },
      "execution_count": 15,
      "outputs": [
        {
          "output_type": "stream",
          "name": "stdout",
          "text": [
            "blue\n"
          ]
        }
      ]
    },
    {
      "cell_type": "code",
      "source": [
        "#13 Write a code to find the minimum number in the tuple (10, 20, 5, 15).\n",
        "\n",
        "nums = (10, 20, 5, 15)\n",
        "print(min(nums))"
      ],
      "metadata": {
        "colab": {
          "base_uri": "https://localhost:8080/"
        },
        "id": "QF3G7-G-l3ep",
        "outputId": "46c98d6c-501b-4558-9c6f-fe09a124e78d"
      },
      "execution_count": 17,
      "outputs": [
        {
          "output_type": "stream",
          "name": "stdout",
          "text": [
            "5\n"
          ]
        }
      ]
    },
    {
      "cell_type": "code",
      "source": [
        "#14 Write a code to find the index of the element \"cat\" in the tuple ('dog', 'cat', 'rabbit').\n",
        "\n",
        "animals = ('dog', 'cat', 'rabbit')\n",
        "print(animals.index(\"cat\"))\n"
      ],
      "metadata": {
        "colab": {
          "base_uri": "https://localhost:8080/"
        },
        "id": "fPc4wZfhl3gY",
        "outputId": "b5bb1f89-212c-4c2d-83ac-086a2f435522"
      },
      "execution_count": 18,
      "outputs": [
        {
          "output_type": "stream",
          "name": "stdout",
          "text": [
            "1\n"
          ]
        }
      ]
    },
    {
      "cell_type": "code",
      "source": [
        "#15 Write a code to create a tuple containing three different fruits and check if \"kiwi\" is in it.\n",
        "\n",
        "fruits = (\"apple\", \"banana\", \"mango\")\n",
        "print(\"kiwi\" in fruits)"
      ],
      "metadata": {
        "colab": {
          "base_uri": "https://localhost:8080/"
        },
        "id": "FVYgK7iul3j6",
        "outputId": "cd23fdc8-3c1a-48a5-fc77-4acb803ebfdc"
      },
      "execution_count": 19,
      "outputs": [
        {
          "output_type": "stream",
          "name": "stdout",
          "text": [
            "False\n"
          ]
        }
      ]
    },
    {
      "cell_type": "code",
      "source": [
        "#16. Write a code to create a set with the elements 'a', 'b', 'c' and print it.\n",
        "\n",
        "s = {'a', 'b', 'c'}\n",
        "print(s)\n"
      ],
      "metadata": {
        "colab": {
          "base_uri": "https://localhost:8080/"
        },
        "id": "HByhwaugncHU",
        "outputId": "bd38ae9b-0d28-4f5a-b891-a166af6bb869"
      },
      "execution_count": 20,
      "outputs": [
        {
          "output_type": "stream",
          "name": "stdout",
          "text": [
            "{'b', 'a', 'c'}\n"
          ]
        }
      ]
    },
    {
      "cell_type": "code",
      "source": [
        "#17. Write a code to clear all elements from the set {1, 2, 3, 4, 5}.\n",
        "\n",
        "s = {1, 2, 3, 4, 5}\n",
        "s.clear()\n",
        "print(s)"
      ],
      "metadata": {
        "colab": {
          "base_uri": "https://localhost:8080/"
        },
        "id": "DlIOxbaXncPn",
        "outputId": "656b8ff0-854e-43a5-a157-76b3c96b0058"
      },
      "execution_count": 21,
      "outputs": [
        {
          "output_type": "stream",
          "name": "stdout",
          "text": [
            "set()\n"
          ]
        }
      ]
    },
    {
      "cell_type": "code",
      "source": [
        "#18. Write a code to remove the element 4 from the set {1, 2, 3, 4}.\n",
        "\n",
        "s = {1, 2, 3, 4}\n",
        "s.remove(4)\n",
        "print(s)"
      ],
      "metadata": {
        "colab": {
          "base_uri": "https://localhost:8080/"
        },
        "id": "Fu9y08TBncSL",
        "outputId": "446763df-f918-45c6-e61e-d64f5396da1c"
      },
      "execution_count": 22,
      "outputs": [
        {
          "output_type": "stream",
          "name": "stdout",
          "text": [
            "{1, 2, 3}\n"
          ]
        }
      ]
    },
    {
      "cell_type": "code",
      "source": [
        "#19. Write a code to find the union of two sets {1, 2, 3} and {3, 4, 5}.\n",
        "\n",
        "a = {1, 2, 3}\n",
        "b = {3, 4, 5}\n",
        "print(a.union(b))\n"
      ],
      "metadata": {
        "colab": {
          "base_uri": "https://localhost:8080/"
        },
        "id": "R5SMD8p4ncVb",
        "outputId": "e3e36daa-2b21-4186-de0d-c947992dc4e9"
      },
      "execution_count": 23,
      "outputs": [
        {
          "output_type": "stream",
          "name": "stdout",
          "text": [
            "{1, 2, 3, 4, 5}\n"
          ]
        }
      ]
    },
    {
      "cell_type": "code",
      "source": [
        "#20. Write a code to find the intersection of two sets {1, 2, 3} and {2, 3, 4}.\n",
        "\n",
        "a = {1, 2, 3}\n",
        "b = {2, 3, 4}\n",
        "print(a.intersection(b))"
      ],
      "metadata": {
        "colab": {
          "base_uri": "https://localhost:8080/"
        },
        "id": "IMD1rSxXncXg",
        "outputId": "3f2b1705-40a0-48b4-c29d-f9c0bb2883cd"
      },
      "execution_count": 24,
      "outputs": [
        {
          "output_type": "stream",
          "name": "stdout",
          "text": [
            "{2, 3}\n"
          ]
        }
      ]
    },
    {
      "cell_type": "code",
      "source": [
        "#21. Write a code to create a dictionary with the keys \"name\", \"age\", and \"city\", and print it.\n",
        "\n",
        "person = {\"name\": \"John\", \"age\": 25, \"city\": \"New York\"}\n",
        "print(person)"
      ],
      "metadata": {
        "colab": {
          "base_uri": "https://localhost:8080/"
        },
        "id": "U3X7tcdPncav",
        "outputId": "fde1e4d8-8ede-4ec5-9081-d318125092da"
      },
      "execution_count": 25,
      "outputs": [
        {
          "output_type": "stream",
          "name": "stdout",
          "text": [
            "{'name': 'John', 'age': 25, 'city': 'New York'}\n"
          ]
        }
      ]
    },
    {
      "cell_type": "code",
      "source": [
        "#22. Write a code to add a new key-value pair \"country\": \"USA\" to the dictionary {'name': 'John', 'age': 25}.\n",
        "\n",
        "person = {'name': 'John', 'age': 25}\n",
        "person[\"country\"] = \"USA\"\n",
        "print(person)"
      ],
      "metadata": {
        "colab": {
          "base_uri": "https://localhost:8080/"
        },
        "id": "4GxrOEH4ncdU",
        "outputId": "6d803048-7636-47cf-9d04-17dfceb6689e"
      },
      "execution_count": 26,
      "outputs": [
        {
          "output_type": "stream",
          "name": "stdout",
          "text": [
            "{'name': 'John', 'age': 25, 'country': 'USA'}\n"
          ]
        }
      ]
    },
    {
      "cell_type": "code",
      "source": [
        "#23. Write a code to access the value associated with the key \"name\" in the dictionary {'name': 'Alice', 'age': 30}.\n",
        "\n",
        "person = {'name': 'Alice', 'age': 30}\n",
        "print(person[\"name\"])\n"
      ],
      "metadata": {
        "colab": {
          "base_uri": "https://localhost:8080/"
        },
        "id": "coWZFEQ4ncfw",
        "outputId": "0e8c679b-d582-48d3-95ea-f405e059b741"
      },
      "execution_count": 27,
      "outputs": [
        {
          "output_type": "stream",
          "name": "stdout",
          "text": [
            "Alice\n"
          ]
        }
      ]
    },
    {
      "cell_type": "code",
      "source": [
        "#24. Write a code to remove the key \"age\" from the dictionary {'name': 'Bob', 'age': 22, 'city': 'New York'}.\n",
        "\n",
        "person = {'name': 'Bob', 'age': 22, 'city': 'New York'}\n",
        "person.pop(\"age\")\n",
        "print(person)"
      ],
      "metadata": {
        "colab": {
          "base_uri": "https://localhost:8080/"
        },
        "id": "cPC7u57dncin",
        "outputId": "279e9d56-a36c-4946-ebda-15f26e5dd7d5"
      },
      "execution_count": 28,
      "outputs": [
        {
          "output_type": "stream",
          "name": "stdout",
          "text": [
            "{'name': 'Bob', 'city': 'New York'}\n"
          ]
        }
      ]
    },
    {
      "cell_type": "code",
      "source": [
        "#25. Write a code to check if the key \"city\" exists in the dictionary {'name': 'Alice', 'city': 'Paris'}.\n",
        "\n",
        "person = {'name': 'Alice', 'city': 'Paris'}\n",
        "print(\"city\" in person)"
      ],
      "metadata": {
        "colab": {
          "base_uri": "https://localhost:8080/"
        },
        "id": "Ej2D8eoTnckt",
        "outputId": "d44bde4b-2914-4b3d-e2a8-45d21cc7238f"
      },
      "execution_count": 31,
      "outputs": [
        {
          "output_type": "stream",
          "name": "stdout",
          "text": [
            "True\n"
          ]
        }
      ]
    },
    {
      "cell_type": "code",
      "source": [
        "#26. Write a code to create a list, a tuple, and a dictionary, and print them all.\n",
        "\n",
        "mylist = [1, 2, 3]\n",
        "mytuple = (4, 5, 6)\n",
        "mydict = {\"a\": 10, \"b\": 20}\n",
        "print(mylist, mytuple, mydict)"
      ],
      "metadata": {
        "colab": {
          "base_uri": "https://localhost:8080/"
        },
        "id": "IInbMCvTncnD",
        "outputId": "a9fd6a29-db00-4ebf-8f98-c6aa4ef61eb7"
      },
      "execution_count": 33,
      "outputs": [
        {
          "output_type": "stream",
          "name": "stdout",
          "text": [
            "[1, 2, 3] (4, 5, 6) {'a': 10, 'b': 20}\n"
          ]
        }
      ]
    },
    {
      "cell_type": "code",
      "source": [
        "#27. Write a code to create a list of 5 random numbers between 1 and 100, sort it in ascending order, and print the result.(replaced)\n",
        "\n",
        "import random\n",
        "nums = random.sample(range(1, 101), 5)\n",
        "nums.sort()\n",
        "print(nums)"
      ],
      "metadata": {
        "colab": {
          "base_uri": "https://localhost:8080/"
        },
        "id": "rZXDNQqjqsUU",
        "outputId": "85266467-6cc2-44d9-b6a7-0a7ca87ff7af"
      },
      "execution_count": 35,
      "outputs": [
        {
          "output_type": "stream",
          "name": "stdout",
          "text": [
            "[22, 26, 33, 68, 87]\n"
          ]
        }
      ]
    },
    {
      "cell_type": "code",
      "source": [
        "#28. Write a code to create a list with strings and print the element at the third index.\n",
        "\n",
        "words = [\"apple\", \"banana\", \"cherry\", \"date\", \"fig\"]\n",
        "print(words[3])"
      ],
      "metadata": {
        "colab": {
          "base_uri": "https://localhost:8080/"
        },
        "id": "mvQDA5KyqscS",
        "outputId": "a0493a36-51fa-4490-fa85-29a0a78b92ca"
      },
      "execution_count": 36,
      "outputs": [
        {
          "output_type": "stream",
          "name": "stdout",
          "text": [
            "date\n"
          ]
        }
      ]
    },
    {
      "cell_type": "code",
      "source": [
        "#29. Write a code to combine two dictionaries into one and print the result.\n",
        "\n",
        "dict1 = {\"a\": 1, \"b\": 2}\n",
        "dict2 = {\"c\": 3, \"d\": 4}\n",
        "combined = {**dict1, **dict2}\n",
        "print(combined)"
      ],
      "metadata": {
        "colab": {
          "base_uri": "https://localhost:8080/"
        },
        "id": "seqGY4Pmqses",
        "outputId": "cc570f53-b28c-4f60-b55f-7625037a2039"
      },
      "execution_count": 37,
      "outputs": [
        {
          "output_type": "stream",
          "name": "stdout",
          "text": [
            "{'a': 1, 'b': 2, 'c': 3, 'd': 4}\n"
          ]
        }
      ]
    },
    {
      "cell_type": "code",
      "source": [
        "#30. Write a code to convert a list of strings into a set.\n",
        "\n",
        "words = [\"apple\", \"banana\", \"apple\", \"cherry\"]\n",
        "word_set = set(words)\n",
        "print(word_set)"
      ],
      "metadata": {
        "colab": {
          "base_uri": "https://localhost:8080/"
        },
        "id": "gODMTXwzncpw",
        "outputId": "06790c46-fbb1-4412-fa76-bd8ae55abbe7"
      },
      "execution_count": 40,
      "outputs": [
        {
          "output_type": "stream",
          "name": "stdout",
          "text": [
            "{'banana', 'cherry', 'apple'}\n"
          ]
        }
      ]
    },
    {
      "cell_type": "code",
      "source": [],
      "metadata": {
        "id": "9hUB7qbSncr5"
      },
      "execution_count": 39,
      "outputs": []
    }
  ]
}